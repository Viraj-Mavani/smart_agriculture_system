{
 "cells": [
  {
   "cell_type": "code",
   "id": "initial_id",
   "metadata": {
    "collapsed": true,
    "ExecuteTime": {
     "end_time": "2024-12-18T19:39:54.479334Z",
     "start_time": "2024-12-18T19:39:54.475850Z"
    }
   },
   "source": [
    "import os\n",
    "import numpy as np\n",
    "import tensorflow as tf\n",
    "from tensorflow.keras.preprocessing.image import ImageDataGenerator\n",
    "from tensorflow.keras.applications import ResNet50, MobileNetV2\n",
    "from tensorflow.keras.applications.resnet50 import preprocess_input\n",
    "from tensorflow.keras.models import Sequential\n",
    "from tensorflow.keras.layers import Dense, Flatten, Dropout, GlobalAveragePooling2D\n",
    "from sklearn.metrics import confusion_matrix, classification_report, roc_auc_score\n",
    "from sklearn.preprocessing import label_binarize\n",
    "import matplotlib.pyplot as plt"
   ],
   "outputs": [],
   "execution_count": 3
  },
  {
   "metadata": {
    "ExecuteTime": {
     "end_time": "2024-12-18T19:39:55.870646Z",
     "start_time": "2024-12-18T19:39:55.867068Z"
    }
   },
   "cell_type": "code",
   "source": [
    "# Define paths\n",
    "data_dir = 'tomato'\n",
    "train_dir = os.path.join(data_dir, 'train')\n",
    "val_dir = os.path.join(data_dir, 'val')"
   ],
   "id": "101b6a8bfdf46fa3",
   "outputs": [],
   "execution_count": 4
  },
  {
   "metadata": {
    "ExecuteTime": {
     "end_time": "2024-12-18T19:39:56.308015Z",
     "start_time": "2024-12-18T19:39:56.042712Z"
    }
   },
   "cell_type": "code",
   "source": [
    "# Hyperparameters\n",
    "IMG_SIZE = (224, 224)\n",
    "BATCH_SIZE = 32\n",
    "EPOCHS = 20\n",
    "LEARNING_RATE = 0.001\n",
    "\n",
    "# # Data Augmentation and Preprocessing\n",
    "# data_gen = ImageDataGenerator(\n",
    "#     preprocessing_function=preprocess_input,\n",
    "#     rotation_range=20,\n",
    "#     width_shift_range=0.2,\n",
    "#     height_shift_range=0.2,\n",
    "#     shear_range=0.2,\n",
    "#     zoom_range=0.2,\n",
    "#     horizontal_flip=True,\n",
    "#     fill_mode='nearest'\n",
    "# )\n",
    "\n",
    "# Data Augmentation and Preprocessing\n",
    "data_gen = ImageDataGenerator(\n",
    "    preprocessing_function=preprocess_input,\n",
    "    validation_split=0.5,  # Split validation into val/test (50% each)\n",
    ")\n",
    "\n",
    "# Train Data\n",
    "train_data = data_gen.flow_from_directory(\n",
    "    train_dir,\n",
    "    target_size=IMG_SIZE,\n",
    "    batch_size=BATCH_SIZE,\n",
    "    class_mode='categorical'\n",
    ")\n",
    "\n",
    "# Validation Data\n",
    "val_data = data_gen.flow_from_directory(\n",
    "    val_dir,\n",
    "    target_size=IMG_SIZE,\n",
    "    batch_size=BATCH_SIZE,\n",
    "    class_mode='categorical',\n",
    "    subset='training'  # Validation set (used during training)\n",
    ")\n",
    "\n",
    "# Test Data\n",
    "test_data = data_gen.flow_from_directory(\n",
    "    val_dir,\n",
    "    target_size=IMG_SIZE,\n",
    "    batch_size=BATCH_SIZE,\n",
    "    class_mode='categorical',\n",
    "    subset='validation'  # Test set (used for final evaluation)\n",
    ")"
   ],
   "id": "ce15ffdc75c06cd1",
   "outputs": [
    {
     "name": "stdout",
     "output_type": "stream",
     "text": [
      "Found 10000 images belonging to 10 classes.\n",
      "Found 500 images belonging to 10 classes.\n",
      "Found 500 images belonging to 10 classes.\n"
     ]
    }
   ],
   "execution_count": 5
  },
  {
   "metadata": {
    "ExecuteTime": {
     "end_time": "2024-12-18T20:30:11.371640Z",
     "start_time": "2024-12-18T19:39:57.479637Z"
    }
   },
   "cell_type": "code",
   "source": [
    "# Define CNN Model\n",
    "cnn_model = Sequential([\n",
    "    tf.keras.layers.Conv2D(32, (3, 3), activation='relu', input_shape=(IMG_SIZE[0], IMG_SIZE[1], 3)),\n",
    "    tf.keras.layers.MaxPooling2D((2, 2)),\n",
    "    tf.keras.layers.Conv2D(64, (3, 3), activation='relu'),\n",
    "    tf.keras.layers.MaxPooling2D((2, 2)),\n",
    "    tf.keras.layers.Conv2D(128, (3, 3), activation='relu'),\n",
    "    tf.keras.layers.Flatten(),\n",
    "    tf.keras.layers.Dense(128, activation='relu'),\n",
    "    tf.keras.layers.Dense(train_data.num_classes, activation='softmax')\n",
    "])\n",
    "cnn_model.compile(optimizer='adam', loss='categorical_crossentropy', metrics=['accuracy'])\n",
    "\n",
    "# Train CNN Model\n",
    "print(\"Training CNN Model...\")\n",
    "cnn_history = cnn_model.fit(train_data, validation_data=val_data, epochs=EPOCHS)\n"
   ],
   "id": "ea85f329b7262b96",
   "outputs": [
    {
     "name": "stderr",
     "output_type": "stream",
     "text": [
      "C:\\Users\\viraj\\AppData\\Local\\Programs\\Python\\Python311\\Lib\\site-packages\\keras\\src\\layers\\convolutional\\base_conv.py:107: UserWarning: Do not pass an `input_shape`/`input_dim` argument to a layer. When using Sequential models, prefer using an `Input(shape)` object as the first layer in the model instead.\n",
      "  super().__init__(activity_regularizer=activity_regularizer, **kwargs)\n"
     ]
    },
    {
     "name": "stdout",
     "output_type": "stream",
     "text": [
      "Training CNN Model...\n",
      "Epoch 1/20\n"
     ]
    },
    {
     "name": "stderr",
     "output_type": "stream",
     "text": [
      "C:\\Users\\viraj\\AppData\\Local\\Programs\\Python\\Python311\\Lib\\site-packages\\keras\\src\\trainers\\data_adapters\\py_dataset_adapter.py:121: UserWarning: Your `PyDataset` class should call `super().__init__(**kwargs)` in its constructor. `**kwargs` can include `workers`, `use_multiprocessing`, `max_queue_size`. Do not pass these arguments to `fit()`, as they will be ignored.\n",
      "  self._warn_if_super_not_called()\n"
     ]
    },
    {
     "name": "stdout",
     "output_type": "stream",
     "text": [
      "\u001B[1m313/313\u001B[0m \u001B[32m━━━━━━━━━━━━━━━━━━━━\u001B[0m\u001B[37m\u001B[0m \u001B[1m145s\u001B[0m 460ms/step - accuracy: 0.2152 - loss: 56.6469 - val_accuracy: 0.1920 - val_loss: 2.1884\n",
      "Epoch 2/20\n",
      "\u001B[1m313/313\u001B[0m \u001B[32m━━━━━━━━━━━━━━━━━━━━\u001B[0m\u001B[37m\u001B[0m \u001B[1m145s\u001B[0m 462ms/step - accuracy: 0.4118 - loss: 1.7877 - val_accuracy: 0.3400 - val_loss: 2.0048\n",
      "Epoch 3/20\n",
      "\u001B[1m313/313\u001B[0m \u001B[32m━━━━━━━━━━━━━━━━━━━━\u001B[0m\u001B[37m\u001B[0m \u001B[1m147s\u001B[0m 471ms/step - accuracy: 0.6737 - loss: 1.0295 - val_accuracy: 0.3400 - val_loss: 1.9680\n",
      "Epoch 4/20\n",
      "\u001B[1m313/313\u001B[0m \u001B[32m━━━━━━━━━━━━━━━━━━━━\u001B[0m\u001B[37m\u001B[0m \u001B[1m147s\u001B[0m 470ms/step - accuracy: 0.8702 - loss: 0.4423 - val_accuracy: 0.3680 - val_loss: 2.3329\n",
      "Epoch 5/20\n",
      "\u001B[1m313/313\u001B[0m \u001B[32m━━━━━━━━━━━━━━━━━━━━\u001B[0m\u001B[37m\u001B[0m \u001B[1m147s\u001B[0m 471ms/step - accuracy: 0.9419 - loss: 0.2067 - val_accuracy: 0.3620 - val_loss: 3.6707\n",
      "Epoch 6/20\n",
      "\u001B[1m313/313\u001B[0m \u001B[32m━━━━━━━━━━━━━━━━━━━━\u001B[0m\u001B[37m\u001B[0m \u001B[1m147s\u001B[0m 470ms/step - accuracy: 0.9851 - loss: 0.0651 - val_accuracy: 0.3420 - val_loss: 4.1496\n",
      "Epoch 7/20\n",
      "\u001B[1m313/313\u001B[0m \u001B[32m━━━━━━━━━━━━━━━━━━━━\u001B[0m\u001B[37m\u001B[0m \u001B[1m147s\u001B[0m 470ms/step - accuracy: 0.9820 - loss: 0.0722 - val_accuracy: 0.3720 - val_loss: 3.8632\n",
      "Epoch 8/20\n",
      "\u001B[1m313/313\u001B[0m \u001B[32m━━━━━━━━━━━━━━━━━━━━\u001B[0m\u001B[37m\u001B[0m \u001B[1m148s\u001B[0m 471ms/step - accuracy: 0.9779 - loss: 0.0717 - val_accuracy: 0.3760 - val_loss: 4.4355\n",
      "Epoch 9/20\n",
      "\u001B[1m313/313\u001B[0m \u001B[32m━━━━━━━━━━━━━━━━━━━━\u001B[0m\u001B[37m\u001B[0m \u001B[1m147s\u001B[0m 470ms/step - accuracy: 0.9792 - loss: 0.0753 - val_accuracy: 0.3680 - val_loss: 4.7570\n",
      "Epoch 10/20\n",
      "\u001B[1m313/313\u001B[0m \u001B[32m━━━━━━━━━━━━━━━━━━━━\u001B[0m\u001B[37m\u001B[0m \u001B[1m148s\u001B[0m 472ms/step - accuracy: 0.9709 - loss: 0.1007 - val_accuracy: 0.3760 - val_loss: 7.0003\n",
      "Epoch 11/20\n",
      "\u001B[1m313/313\u001B[0m \u001B[32m━━━━━━━━━━━━━━━━━━━━\u001B[0m\u001B[37m\u001B[0m \u001B[1m148s\u001B[0m 472ms/step - accuracy: 0.9758 - loss: 0.0772 - val_accuracy: 0.3900 - val_loss: 5.2514\n",
      "Epoch 12/20\n",
      "\u001B[1m313/313\u001B[0m \u001B[32m━━━━━━━━━━━━━━━━━━━━\u001B[0m\u001B[37m\u001B[0m \u001B[1m147s\u001B[0m 470ms/step - accuracy: 0.9737 - loss: 0.0799 - val_accuracy: 0.3760 - val_loss: 6.3345\n",
      "Epoch 13/20\n",
      "\u001B[1m313/313\u001B[0m \u001B[32m━━━━━━━━━━━━━━━━━━━━\u001B[0m\u001B[37m\u001B[0m \u001B[1m148s\u001B[0m 472ms/step - accuracy: 0.9832 - loss: 0.0600 - val_accuracy: 0.3780 - val_loss: 5.9748\n",
      "Epoch 14/20\n",
      "\u001B[1m313/313\u001B[0m \u001B[32m━━━━━━━━━━━━━━━━━━━━\u001B[0m\u001B[37m\u001B[0m \u001B[1m148s\u001B[0m 471ms/step - accuracy: 0.9871 - loss: 0.0429 - val_accuracy: 0.3520 - val_loss: 8.1442\n",
      "Epoch 15/20\n",
      "\u001B[1m313/313\u001B[0m \u001B[32m━━━━━━━━━━━━━━━━━━━━\u001B[0m\u001B[37m\u001B[0m \u001B[1m147s\u001B[0m 470ms/step - accuracy: 0.9542 - loss: 0.1549 - val_accuracy: 0.3600 - val_loss: 7.2662\n",
      "Epoch 16/20\n",
      "\u001B[1m313/313\u001B[0m \u001B[32m━━━━━━━━━━━━━━━━━━━━\u001B[0m\u001B[37m\u001B[0m \u001B[1m155s\u001B[0m 496ms/step - accuracy: 0.9730 - loss: 0.0941 - val_accuracy: 0.3540 - val_loss: 7.5003\n",
      "Epoch 17/20\n",
      "\u001B[1m313/313\u001B[0m \u001B[32m━━━━━━━━━━━━━━━━━━━━\u001B[0m\u001B[37m\u001B[0m \u001B[1m165s\u001B[0m 527ms/step - accuracy: 0.9819 - loss: 0.0645 - val_accuracy: 0.3680 - val_loss: 7.5710\n",
      "Epoch 18/20\n",
      "\u001B[1m313/313\u001B[0m \u001B[32m━━━━━━━━━━━━━━━━━━━━\u001B[0m\u001B[37m\u001B[0m \u001B[1m163s\u001B[0m 522ms/step - accuracy: 0.9741 - loss: 0.0969 - val_accuracy: 0.3540 - val_loss: 8.5014\n",
      "Epoch 19/20\n",
      "\u001B[1m313/313\u001B[0m \u001B[32m━━━━━━━━━━━━━━━━━━━━\u001B[0m\u001B[37m\u001B[0m \u001B[1m161s\u001B[0m 515ms/step - accuracy: 0.9804 - loss: 0.0637 - val_accuracy: 0.3640 - val_loss: 8.2268\n",
      "Epoch 20/20\n",
      "\u001B[1m313/313\u001B[0m \u001B[32m━━━━━━━━━━━━━━━━━━━━\u001B[0m\u001B[37m\u001B[0m \u001B[1m162s\u001B[0m 518ms/step - accuracy: 0.9631 - loss: 0.1281 - val_accuracy: 0.3620 - val_loss: 7.5578\n"
     ]
    }
   ],
   "execution_count": 6
  },
  {
   "metadata": {
    "ExecuteTime": {
     "end_time": "2024-12-18T21:36:27.630535Z",
     "start_time": "2024-12-18T20:30:12.106733Z"
    }
   },
   "cell_type": "code",
   "source": [
    "# Define ResNet50 Model\n",
    "resnet_model = Sequential([\n",
    "    ResNet50(weights='imagenet', include_top=False, input_shape=(IMG_SIZE[0], IMG_SIZE[1], 3)),\n",
    "    GlobalAveragePooling2D(),\n",
    "    Dense(256, activation='relu'),\n",
    "    Dropout(0.5),\n",
    "    Dense(train_data.num_classes, activation='softmax')\n",
    "])\n",
    "resnet_model.layers[0].trainable = False  # Freeze ResNet50 base\n",
    "resnet_model.compile(optimizer='adam', loss='categorical_crossentropy', metrics=['accuracy'])\n",
    "\n",
    "# Train ResNet50 Model\n",
    "print(\"Training ResNet50 Model...\")\n",
    "resnet_history = resnet_model.fit(train_data, validation_data=val_data, epochs=EPOCHS)\n"
   ],
   "id": "e0ce1fd8ee6738ed",
   "outputs": [
    {
     "name": "stdout",
     "output_type": "stream",
     "text": [
      "Downloading data from https://storage.googleapis.com/tensorflow/keras-applications/resnet/resnet50_weights_tf_dim_ordering_tf_kernels_notop.h5\n",
      "\u001B[1m94765736/94765736\u001B[0m \u001B[32m━━━━━━━━━━━━━━━━━━━━\u001B[0m\u001B[37m\u001B[0m \u001B[1m2s\u001B[0m 0us/step\n",
      "Training ResNet50 Model...\n",
      "Epoch 1/20\n",
      "\u001B[1m313/313\u001B[0m \u001B[32m━━━━━━━━━━━━━━━━━━━━\u001B[0m\u001B[37m\u001B[0m \u001B[1m199s\u001B[0m 622ms/step - accuracy: 0.6526 - loss: 1.0758 - val_accuracy: 0.9100 - val_loss: 0.2865\n",
      "Epoch 2/20\n",
      "\u001B[1m313/313\u001B[0m \u001B[32m━━━━━━━━━━━━━━━━━━━━\u001B[0m\u001B[37m\u001B[0m \u001B[1m194s\u001B[0m 619ms/step - accuracy: 0.8945 - loss: 0.3151 - val_accuracy: 0.9240 - val_loss: 0.2684\n",
      "Epoch 3/20\n",
      "\u001B[1m313/313\u001B[0m \u001B[32m━━━━━━━━━━━━━━━━━━━━\u001B[0m\u001B[37m\u001B[0m \u001B[1m196s\u001B[0m 627ms/step - accuracy: 0.9154 - loss: 0.2466 - val_accuracy: 0.9240 - val_loss: 0.2086\n",
      "Epoch 4/20\n",
      "\u001B[1m313/313\u001B[0m \u001B[32m━━━━━━━━━━━━━━━━━━━━\u001B[0m\u001B[37m\u001B[0m \u001B[1m195s\u001B[0m 623ms/step - accuracy: 0.9285 - loss: 0.2035 - val_accuracy: 0.9200 - val_loss: 0.2493\n",
      "Epoch 5/20\n",
      "\u001B[1m313/313\u001B[0m \u001B[32m━━━━━━━━━━━━━━━━━━━━\u001B[0m\u001B[37m\u001B[0m \u001B[1m198s\u001B[0m 632ms/step - accuracy: 0.9432 - loss: 0.1564 - val_accuracy: 0.9360 - val_loss: 0.1789\n",
      "Epoch 6/20\n",
      "\u001B[1m313/313\u001B[0m \u001B[32m━━━━━━━━━━━━━━━━━━━━\u001B[0m\u001B[37m\u001B[0m \u001B[1m195s\u001B[0m 623ms/step - accuracy: 0.9539 - loss: 0.1326 - val_accuracy: 0.9200 - val_loss: 0.2141\n",
      "Epoch 7/20\n",
      "\u001B[1m313/313\u001B[0m \u001B[32m━━━━━━━━━━━━━━━━━━━━\u001B[0m\u001B[37m\u001B[0m \u001B[1m196s\u001B[0m 625ms/step - accuracy: 0.9513 - loss: 0.1437 - val_accuracy: 0.9400 - val_loss: 0.1831\n",
      "Epoch 8/20\n",
      "\u001B[1m313/313\u001B[0m \u001B[32m━━━━━━━━━━━━━━━━━━━━\u001B[0m\u001B[37m\u001B[0m \u001B[1m194s\u001B[0m 619ms/step - accuracy: 0.9563 - loss: 0.1255 - val_accuracy: 0.9360 - val_loss: 0.1630\n",
      "Epoch 9/20\n",
      "\u001B[1m313/313\u001B[0m \u001B[32m━━━━━━━━━━━━━━━━━━━━\u001B[0m\u001B[37m\u001B[0m \u001B[1m212s\u001B[0m 677ms/step - accuracy: 0.9665 - loss: 0.0976 - val_accuracy: 0.9360 - val_loss: 0.1644\n",
      "Epoch 10/20\n",
      "\u001B[1m313/313\u001B[0m \u001B[32m━━━━━━━━━━━━━━━━━━━━\u001B[0m\u001B[37m\u001B[0m \u001B[1m205s\u001B[0m 656ms/step - accuracy: 0.9661 - loss: 0.1030 - val_accuracy: 0.9360 - val_loss: 0.1589\n",
      "Epoch 11/20\n",
      "\u001B[1m313/313\u001B[0m \u001B[32m━━━━━━━━━━━━━━━━━━━━\u001B[0m\u001B[37m\u001B[0m \u001B[1m200s\u001B[0m 640ms/step - accuracy: 0.9632 - loss: 0.1039 - val_accuracy: 0.9480 - val_loss: 0.1845\n",
      "Epoch 12/20\n",
      "\u001B[1m313/313\u001B[0m \u001B[32m━━━━━━━━━━━━━━━━━━━━\u001B[0m\u001B[37m\u001B[0m \u001B[1m194s\u001B[0m 619ms/step - accuracy: 0.9693 - loss: 0.0885 - val_accuracy: 0.9380 - val_loss: 0.1861\n",
      "Epoch 13/20\n",
      "\u001B[1m313/313\u001B[0m \u001B[32m━━━━━━━━━━━━━━━━━━━━\u001B[0m\u001B[37m\u001B[0m \u001B[1m194s\u001B[0m 621ms/step - accuracy: 0.9686 - loss: 0.0852 - val_accuracy: 0.9440 - val_loss: 0.1448\n",
      "Epoch 14/20\n",
      "\u001B[1m313/313\u001B[0m \u001B[32m━━━━━━━━━━━━━━━━━━━━\u001B[0m\u001B[37m\u001B[0m \u001B[1m204s\u001B[0m 653ms/step - accuracy: 0.9685 - loss: 0.0872 - val_accuracy: 0.9400 - val_loss: 0.1891\n",
      "Epoch 15/20\n",
      "\u001B[1m313/313\u001B[0m \u001B[32m━━━━━━━━━━━━━━━━━━━━\u001B[0m\u001B[37m\u001B[0m \u001B[1m204s\u001B[0m 653ms/step - accuracy: 0.9689 - loss: 0.0854 - val_accuracy: 0.9420 - val_loss: 0.1820\n",
      "Epoch 16/20\n",
      "\u001B[1m313/313\u001B[0m \u001B[32m━━━━━━━━━━━━━━━━━━━━\u001B[0m\u001B[37m\u001B[0m \u001B[1m198s\u001B[0m 631ms/step - accuracy: 0.9729 - loss: 0.0793 - val_accuracy: 0.9420 - val_loss: 0.1945\n",
      "Epoch 17/20\n",
      "\u001B[1m313/313\u001B[0m \u001B[32m━━━━━━━━━━━━━━━━━━━━\u001B[0m\u001B[37m\u001B[0m \u001B[1m199s\u001B[0m 634ms/step - accuracy: 0.9725 - loss: 0.0769 - val_accuracy: 0.9500 - val_loss: 0.2152\n",
      "Epoch 18/20\n",
      "\u001B[1m313/313\u001B[0m \u001B[32m━━━━━━━━━━━━━━━━━━━━\u001B[0m\u001B[37m\u001B[0m \u001B[1m199s\u001B[0m 635ms/step - accuracy: 0.9675 - loss: 0.0864 - val_accuracy: 0.9540 - val_loss: 0.1805\n",
      "Epoch 19/20\n",
      "\u001B[1m313/313\u001B[0m \u001B[32m━━━━━━━━━━━━━━━━━━━━\u001B[0m\u001B[37m\u001B[0m \u001B[1m194s\u001B[0m 620ms/step - accuracy: 0.9751 - loss: 0.0694 - val_accuracy: 0.9540 - val_loss: 0.1732\n",
      "Epoch 20/20\n",
      "\u001B[1m313/313\u001B[0m \u001B[32m━━━━━━━━━━━━━━━━━━━━\u001B[0m\u001B[37m\u001B[0m \u001B[1m201s\u001B[0m 643ms/step - accuracy: 0.9799 - loss: 0.0648 - val_accuracy: 0.9440 - val_loss: 0.2380\n"
     ]
    }
   ],
   "execution_count": 7
  },
  {
   "metadata": {
    "ExecuteTime": {
     "end_time": "2024-12-18T21:36:39.979502Z",
     "start_time": "2024-12-18T21:36:27.748563Z"
    }
   },
   "cell_type": "code",
   "source": [
    "# Evaluate Models\n",
    "print(\"Evaluating CNN Model on Test Data...\")\n",
    "cnn_eval = cnn_model.evaluate(test_data)\n",
    "print(f\"CNN Test Accuracy: {cnn_eval[1]:.2f}\")\n",
    "\n",
    "print(\"Evaluating ResNet50 Model on Test Data...\")\n",
    "resnet_eval = resnet_model.evaluate(test_data)\n",
    "print(f\"ResNet50 Test Accuracy: {resnet_eval[1]:.2f}\")"
   ],
   "id": "d507445d04ca819b",
   "outputs": [
    {
     "name": "stdout",
     "output_type": "stream",
     "text": [
      "Evaluating CNN Model on Test Data...\n",
      "\u001B[1m16/16\u001B[0m \u001B[32m━━━━━━━━━━━━━━━━━━━━\u001B[0m\u001B[37m\u001B[0m \u001B[1m2s\u001B[0m 97ms/step - accuracy: 0.3677 - loss: 7.2973\n",
      "CNN Test Accuracy: 0.38\n",
      "Evaluating ResNet50 Model on Test Data...\n",
      "\u001B[1m16/16\u001B[0m \u001B[32m━━━━━━━━━━━━━━━━━━━━\u001B[0m\u001B[37m\u001B[0m \u001B[1m9s\u001B[0m 587ms/step - accuracy: 0.9718 - loss: 0.0775\n",
      "ResNet50 Test Accuracy: 0.96\n"
     ]
    }
   ],
   "execution_count": 8
  },
  {
   "metadata": {
    "ExecuteTime": {
     "end_time": "2024-12-18T21:36:55.039433Z",
     "start_time": "2024-12-18T21:36:39.988275Z"
    }
   },
   "cell_type": "code",
   "source": [
    "# Confusion Matrix\n",
    "def plot_confusion_matrix(y_true, y_pred, model_name):\n",
    "    cm = confusion_matrix(y_true, y_pred)\n",
    "    print(f\"Confusion Matrix for {model_name}:\")\n",
    "    print(cm)\n",
    "    plt.imshow(cm, interpolation='nearest', cmap=plt.cm.Blues)\n",
    "    plt.title(f\"{model_name} Confusion Matrix\")\n",
    "    plt.colorbar()\n",
    "    plt.show()\n",
    "\n",
    "# CNN Confusion Matrix\n",
    "y_true = test_data.classes\n",
    "y_pred_cnn = np.argmax(cnn_model.predict(test_data), axis=1)\n",
    "plot_confusion_matrix(y_true, y_pred_cnn, \"CNN\")\n",
    "\n",
    "# ResNet50 Confusion Matrix\n",
    "y_pred_resnet = np.argmax(resnet_model.predict(test_data), axis=1)\n",
    "plot_confusion_matrix(y_true, y_pred_resnet, \"ResNet50\")\n"
   ],
   "id": "3c6e4c44f3e5dec8",
   "outputs": [
    {
     "name": "stdout",
     "output_type": "stream",
     "text": [
      "\u001B[1m16/16\u001B[0m \u001B[32m━━━━━━━━━━━━━━━━━━━━\u001B[0m\u001B[37m\u001B[0m \u001B[1m1s\u001B[0m 82ms/step\n",
      "Confusion Matrix for CNN:\n",
      "[[ 7  3  5  6  4  8  4  1  5  7]\n",
      " [ 7  5  3  7  4 11  1  4  4  4]\n",
      " [ 2  7  5  6  5  8  3  5  5  4]\n",
      " [ 5  4  4  4  7 10  0  2  6  8]\n",
      " [ 5  6  2  6  8  6  4  5  6  2]\n",
      " [ 4  4  3  2  6 10  3  8  7  3]\n",
      " [ 7  4  2  7  4  8  2  3  8  5]\n",
      " [ 4  3  4  3  4 11  7  4  5  5]\n",
      " [ 7  3  2  8  5  8  2  4  4  7]\n",
      " [ 4  3  4  3  5 12  5  5  3  6]]\n"
     ]
    },
    {
     "data": {
      "text/plain": [
       "<Figure size 640x480 with 2 Axes>"
      ],
      "image/png": "[encoded data removed]"
     },
     "metadata": {},
     "output_type": "display_data"
    },
    {
     "name": "stdout",
     "output_type": "stream",
     "text": [
      "\u001B[1m16/16\u001B[0m \u001B[32m━━━━━━━━━━━━━━━━━━━━\u001B[0m\u001B[37m\u001B[0m \u001B[1m13s\u001B[0m 724ms/step\n",
      "Confusion Matrix for ResNet50:\n",
      "[[ 7  5  2  6 11  3  2  4  6  4]\n",
      " [ 5  9  6  4  2  3  3  7  6  5]\n",
      " [10  1  7  3  3  8  5  2  2  9]\n",
      " [ 6  4  2  7  7  9  5  2  6  2]\n",
      " [ 5  2 12  6  2  8  5  5  3  2]\n",
      " [ 3  2  7  6  5  6  2  9  5  5]\n",
      " [ 2  7  5  4  5  3  7  3  6  8]\n",
      " [ 4  6  3  7  7  5  6  4  2  6]\n",
      " [ 5  4  3  4  5  4  5  6  9  5]\n",
      " [ 5  5  7  3  2  6  5  7  4  6]]\n"
     ]
    },
    {
     "data": {
      "text/plain": [
       "<Figure size 640x480 with 2 Axes>"
      ],
      "image/png": "[encoded data removed]"
     },
     "metadata": {},
     "output_type": "display_data"
    }
   ],
   "execution_count": 9
  },
  {
   "metadata": {
    "ExecuteTime": {
     "end_time": "2024-12-18T21:37:06.414806Z",
     "start_time": "2024-12-18T21:36:55.103938Z"
    }
   },
   "cell_type": "code",
   "source": [
    "# ROC-AUC Curve\n",
    "def plot_roc_auc(model, data, model_name):\n",
    "    y_true = data.classes\n",
    "    y_pred_prob = model.predict(data)\n",
    "    y_true_oh = label_binarize(y_true, classes=list(range(data.num_classes)))\n",
    "    roc_auc = roc_auc_score(y_true_oh, y_pred_prob, multi_class='ovr')\n",
    "    print(f\"ROC-AUC Score for {model_name}: {roc_auc:.2f}\")\n",
    "\n",
    "# ROC-AUC for CNN\n",
    "plot_roc_auc(cnn_model, test_data, \"CNN\")\n",
    "\n",
    "# ROC-AUC for ResNet50\n",
    "plot_roc_auc(resnet_model, test_data, \"ResNet50\")"
   ],
   "id": "d0c8901edfbe9bd2",
   "outputs": [
    {
     "name": "stdout",
     "output_type": "stream",
     "text": [
      "\u001B[1m16/16\u001B[0m \u001B[32m━━━━━━━━━━━━━━━━━━━━\u001B[0m\u001B[37m\u001B[0m \u001B[1m1s\u001B[0m 85ms/step\n",
      "ROC-AUC Score for CNN: 0.50\n",
      "\u001B[1m16/16\u001B[0m \u001B[32m━━━━━━━━━━━━━━━━━━━━\u001B[0m\u001B[37m\u001B[0m \u001B[1m10s\u001B[0m 602ms/step\n",
      "ROC-AUC Score for ResNet50: 0.50\n"
     ]
    }
   ],
   "execution_count": 10
  }
 ],
 "metadata": {
  "kernelspec": {
   "display_name": "Python 3",
   "language": "python",
   "name": "python3"
  },
  "language_info": {
   "codemirror_mode": {
    "name": "ipython",
    "version": 2
   },
   "file_extension": ".py",
   "mimetype": "text/x-python",
   "name": "python",
   "nbconvert_exporter": "python",
   "pygments_lexer": "ipython2",
   "version": "2.7.6"
  }
 },
 "nbformat": 4,
 "nbformat_minor": 5
}
