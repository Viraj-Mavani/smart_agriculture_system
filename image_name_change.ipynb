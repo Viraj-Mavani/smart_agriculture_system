{
 "cells": [
  {
   "cell_type": "code",
   "id": "575bf001-fb97-4858-9874-e0c5d02dc454",
   "metadata": {
    "ExecuteTime": {
     "end_time": "2024-12-19T15:45:15.452470Z",
     "start_time": "2024-12-19T15:45:15.449311Z"
    }
   },
   "source": [
    "import os\n",
    "from matplotlib import pyplot as plt\n",
    "import random"
   ],
   "outputs": [],
   "execution_count": 5
  },
  {
   "cell_type": "code",
   "id": "7ab467bc-4ffb-4d29-9e02-628d59a533b4",
   "metadata": {
    "scrolled": true,
    "ExecuteTime": {
     "end_time": "2024-12-19T15:45:16.003907Z",
     "start_time": "2024-12-19T15:45:15.999621Z"
    }
   },
   "source": [
    "path = './tomato'\n",
    "file = os.listdir(path)\n",
    "file"
   ],
   "outputs": [
    {
     "data": {
      "text/plain": [
       "['train', 'val']"
      ]
     },
     "execution_count": 6,
     "metadata": {},
     "output_type": "execute_result"
    }
   ],
   "execution_count": 6
  },
  {
   "cell_type": "code",
   "id": "59e67b05-9897-4545-8816-d80c59c15df2",
   "metadata": {
    "ExecuteTime": {
     "end_time": "2024-12-19T15:45:16.571548Z",
     "start_time": "2024-12-19T15:45:16.566664Z"
    }
   },
   "source": [
    "types = os.listdir(path+'/'+file[0])\n",
    "types"
   ],
   "outputs": [
    {
     "data": {
      "text/plain": [
       "['Tomato___Bacterial_spot',\n",
       " 'Tomato___Early_blight',\n",
       " 'Tomato___healthy',\n",
       " 'Tomato___Late_blight',\n",
       " 'Tomato___Leaf_Mold',\n",
       " 'Tomato___Septoria_leaf_spot',\n",
       " 'Tomato___Spider_mites Two-spotted_spider_mite',\n",
       " 'Tomato___Target_Spot',\n",
       " 'Tomato___Tomato_mosaic_virus',\n",
       " 'Tomato___Tomato_Yellow_Leaf_Curl_Virus']"
      ]
     },
     "execution_count": 7,
     "metadata": {},
     "output_type": "execute_result"
    }
   ],
   "execution_count": 7
  },
  {
   "cell_type": "code",
   "id": "bbb21f5c-1fff-46ae-8f59-c06a23218078",
   "metadata": {
    "ExecuteTime": {
     "end_time": "2024-12-19T15:45:17.734714Z",
     "start_time": "2024-12-19T15:45:17.731313Z"
    }
   },
   "source": [
    "random.seed(3)\n",
    "test = random.sample(range(0,1000), 300)"
   ],
   "outputs": [],
   "execution_count": 8
  },
  {
   "cell_type": "code",
   "id": "35b0360e-a3ac-4276-88f3-b72e243e480d",
   "metadata": {
    "scrolled": true,
    "ExecuteTime": {
     "end_time": "2024-12-19T16:42:07.861103Z",
     "start_time": "2024-12-19T16:41:47.202894Z"
    }
   },
   "source": [
    "i = 'train'\n",
    "for j in types:\n",
    "    print(j)\n",
    "    loc = path+'/'+i+'/'+j\n",
    "    new_loc = './data'+'/'+i+'/'+j\n",
    "    \n",
    "    os.makedirs(new_loc, exist_ok=True)\n",
    "    os.makedirs('./data/test/' + j, exist_ok=True)  # Create test directory if needed\n",
    "\n",
    "    images = os.listdir(loc)\n",
    "    \n",
    "    for k in range(len(images)):\n",
    "        name = loc+'/'+images[k]\n",
    "        img = plt.imread(name)\n",
    "        if k in test:\n",
    "            plt.imsave('./data'+'/test/'+j+'/'+str(k)+'.jpg', img)\n",
    "        else:\n",
    "            plt.imsave(new_loc+'/'+str(k)+'.jpg', img)"
   ],
   "outputs": [
    {
     "name": "stdout",
     "output_type": "stream",
     "text": [
      "Tomato___Bacterial_spot\n",
      "Tomato___Early_blight\n",
      "Tomato___healthy\n",
      "Tomato___Late_blight\n",
      "Tomato___Leaf_Mold\n",
      "Tomato___Septoria_leaf_spot\n",
      "Tomato___Spider_mites Two-spotted_spider_mite\n",
      "Tomato___Target_Spot\n",
      "Tomato___Tomato_mosaic_virus\n",
      "Tomato___Tomato_Yellow_Leaf_Curl_Virus\n"
     ]
    }
   ],
   "execution_count": 12
  },
  {
   "cell_type": "code",
   "id": "456fa28c-8a62-4e2b-89e6-60ac56aa258c",
   "metadata": {
    "ExecuteTime": {
     "end_time": "2024-12-19T16:43:41.098401Z",
     "start_time": "2024-12-19T16:43:39.004822Z"
    }
   },
   "source": [
    "i = 'val'\n",
    "for j in types:\n",
    "    print(j)\n",
    "    loc = path+'/'+i+'/'+j\n",
    "    new_loc = './data'+'/'+i+'/'+j\n",
    "        \n",
    "    os.makedirs(new_loc, exist_ok=True)\n",
    "\n",
    "    images = os.listdir(loc)\n",
    "    \n",
    "    for k in range(len(images)):\n",
    "        name = loc+'/'+images[k]\n",
    "        img = plt.imread(name)\n",
    "        plt.imsave(new_loc+'/'+str(k)+'.jpg', img)"
   ],
   "outputs": [
    {
     "name": "stdout",
     "output_type": "stream",
     "text": [
      "Tomato___Bacterial_spot\n",
      "Tomato___Early_blight\n",
      "Tomato___healthy\n",
      "Tomato___Late_blight\n",
      "Tomato___Leaf_Mold\n",
      "Tomato___Septoria_leaf_spot\n",
      "Tomato___Spider_mites Two-spotted_spider_mite\n",
      "Tomato___Target_Spot\n",
      "Tomato___Tomato_mosaic_virus\n",
      "Tomato___Tomato_Yellow_Leaf_Curl_Virus\n"
     ]
    }
   ],
   "execution_count": 14
  },
  {
   "metadata": {},
   "cell_type": "code",
   "outputs": [],
   "execution_count": null,
   "source": "",
   "id": "ef3f148f90737d5"
  }
 ],
 "metadata": {
  "kernelspec": {
   "display_name": "Python 3 (ipykernel)",
   "language": "python",
   "name": "python3"
  },
  "language_info": {
   "codemirror_mode": {
    "name": "ipython",
    "version": 3
   },
   "file_extension": ".py",
   "mimetype": "text/x-python",
   "name": "python",
   "nbconvert_exporter": "python",
   "pygments_lexer": "ipython3",
   "version": "3.12.6"
  }
 },
 "nbformat": 4,
 "nbformat_minor": 5
}
